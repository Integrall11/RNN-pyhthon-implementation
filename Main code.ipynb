{
  "cells": [
    {
      "cell_type": "markdown",
      "metadata": {
        "id": "view-in-github",
        "colab_type": "text"
      },
      "source": [
        "<a href=\"https://colab.research.google.com/github/Integrall11/RNN-pyhthon-implementation/blob/main/Main%20code.ipynb\" target=\"_parent\"><img src=\"https://colab.research.google.com/assets/colab-badge.svg\" alt=\"Open In Colab\"/></a>"
      ]
    },
    {
      "cell_type": "code",
      "source": [
        "#import libraries\n",
        "import numpy as np\n",
        "import pandas as pd\n",
        "import matplotlib.pyplot as plt\n",
        "from keras.layers import Dense, SimpleRNN, Dropout, LSTM\n",
        "from keras.models import Sequential\n",
        "from sklearn.preprocessing import MinMaxScaler\n",
        "from sklearn.metrics import mean_squared_error\n",
        "from sklearn.model_selection import train_test_split\n",
        "import math"
      ],
      "metadata": {
        "id": "-DyhXMg9jenb"
      },
      "execution_count": 1,
      "outputs": []
    },
    {
      "cell_type": "markdown",
      "source": [
        "Check if a simple fully connected neural network can predict a sequence of orderd 5 numbers"
      ],
      "metadata": {
        "id": "13nNJE0cNk8x"
      }
    },
    {
      "cell_type": "code",
      "source": [
        "#create our dataset\n",
        "X_train = np.array(range(1, 2001)).reshape(400, 5, 1)\n",
        "y_train = np.array([5*x +1 for x in range(1, 401)]).reshape(400, 1)\n",
        "X_test = np.array(range(3000, 3100)).reshape(20, 5, 1)\n",
        "y_test = np.arange(3005, 3105, 5).reshape(20, 1)\n",
        "print('X_train =\\n', X[:5])\n",
        "print('y_train =\\n', y[:5])\n",
        "print('X_test =\\n', test[-5:])\n",
        "print('y_test =\\n', y_test[-5:])"
      ],
      "metadata": {
        "id": "1gsijlbnReRL",
        "outputId": "976424c5-2ece-44fa-dd5a-be76157df0fb",
        "colab": {
          "base_uri": "https://localhost:8080/"
        }
      },
      "execution_count": 8,
      "outputs": [
        {
          "output_type": "stream",
          "name": "stdout",
          "text": [
            "X_train =\n",
            " [[[ 1]\n",
            "  [ 2]\n",
            "  [ 3]\n",
            "  [ 4]\n",
            "  [ 5]]\n",
            "\n",
            " [[ 6]\n",
            "  [ 7]\n",
            "  [ 8]\n",
            "  [ 9]\n",
            "  [10]]\n",
            "\n",
            " [[11]\n",
            "  [12]\n",
            "  [13]\n",
            "  [14]\n",
            "  [15]]\n",
            "\n",
            " [[16]\n",
            "  [17]\n",
            "  [18]\n",
            "  [19]\n",
            "  [20]]\n",
            "\n",
            " [[21]\n",
            "  [22]\n",
            "  [23]\n",
            "  [24]\n",
            "  [25]]]\n",
            "y_train =\n",
            " [[ 6]\n",
            " [11]\n",
            " [16]\n",
            " [21]\n",
            " [26]]\n",
            "X_test =\n",
            " [[[3075]\n",
            "  [3076]\n",
            "  [3077]\n",
            "  [3078]\n",
            "  [3079]]\n",
            "\n",
            " [[3080]\n",
            "  [3081]\n",
            "  [3082]\n",
            "  [3083]\n",
            "  [3084]]\n",
            "\n",
            " [[3085]\n",
            "  [3086]\n",
            "  [3087]\n",
            "  [3088]\n",
            "  [3089]]\n",
            "\n",
            " [[3090]\n",
            "  [3091]\n",
            "  [3092]\n",
            "  [3093]\n",
            "  [3094]]\n",
            "\n",
            " [[3095]\n",
            "  [3096]\n",
            "  [3097]\n",
            "  [3098]\n",
            "  [3099]]]\n",
            "y_test =\n",
            " [[3080]\n",
            " [3085]\n",
            " [3090]\n",
            " [3095]\n",
            " [3100]]\n"
          ]
        }
      ]
    },
    {
      "cell_type": "code",
      "source": [
        "#define function to dreate a simple fully connected layer\n",
        "def creat_FC(hidden_layers, hidden_units=10, activation='linear'):\n",
        "  model = Sequential()\n",
        "  model.add(Dense(units=5, activation=activation))\n",
        "\n",
        "  for _ in range(hidden_layers):\n",
        "    model.add(Dense(units=hidden_units, activation=activation))\n",
        "  \n",
        "  model.add(Dense(units=3, activation=activation))\n",
        "  model.add(Dense(units=1, activation='softmax'))\n",
        "  model.compile(loss='mean_squared_error', optimizer='adam')\n",
        "\n",
        "  return model\n",
        "\n",
        "fc = creat_FC(5)\n",
        "fc.fit(X_train, y_train, epochs=40, batch_size=1)"
      ],
      "metadata": {
        "id": "KdFcWXuONv5Z"
      },
      "execution_count": null,
      "outputs": []
    },
    {
      "cell_type": "code",
      "source": [
        "#check the model performance on the test data\n",
        "fc_predict = fc.predict(X_test)\n",
        "fc_predict"
      ],
      "metadata": {
        "id": "j6Cwc1jwSldW"
      },
      "execution_count": null,
      "outputs": []
    },
    {
      "cell_type": "markdown",
      "source": [
        "As it can be seen no matter how to tune the hyperparameters (batch_size, epochs, number of hidden layers or ativation function) a FC NN can not make predictions on a data with no higher representation or and linear relationship between each feature (first element of any 5 sequence are considered a features and the same for any seconde and third etc)\n",
        "NoW we use a simple recurrent network and instead of feeding this 5 sequence as 5 features we feed as a sequence of one feature (a concept that is not defined in the simple neural networks with no memory)"
      ],
      "metadata": {
        "id": "OtkKui5XTWr2"
      }
    },
    {
      "cell_type": "code",
      "source": [
        "#define a function to create RNN\n",
        "def create_RNN(hidden_units, dense_units, input_shape, activation, RNN='simple'):\n",
        "  model = Sequential()\n",
        "  if RNN == 'simple':\n",
        "    model.add(SimpleRNN(units=hidden_units, activation=activation[0], input_shape=input_shape))\n",
        "  elif RNN == 'LSTM':\n",
        "    model.add(LSTM(units=hidden_units, input_shape=input_shape))\n",
        "  else:\n",
        "    raise ValueError('Value for type of RNN is not valid; valid')\n",
        "  \n",
        "  model.add(Dense(units=dense_units, activation=activation[1]))\n",
        "  model.compile(loss='mean_squared_error', optimizer='adam')\n",
        "  return model\n",
        "\n",
        "model = create_RNN(1, 1, (5, 1), ['linear', 'linear'])"
      ],
      "metadata": {
        "id": "lxaMruVNjfEV"
      },
      "execution_count": 23,
      "outputs": []
    },
    {
      "cell_type": "code",
      "source": [
        "#train the simple RNN model\n",
        "model.fit(X_train, y_train, epochs=50, batch_size=1)"
      ],
      "metadata": {
        "id": "io7xtCGVO36m"
      },
      "execution_count": null,
      "outputs": []
    },
    {
      "cell_type": "code",
      "source": [
        "#print trained weight\n",
        "weights = model.get_weights()\n",
        "print('wx =\\n', weights[0])\n",
        "print('wh = \\n', weights[1])\n",
        "print('bh =\\n', weights[2])\n",
        "print('wy = \\n', weights[3])\n",
        "print('by = \\n', weights[4])"
      ],
      "metadata": {
        "id": "RESECGMLEaBh"
      },
      "execution_count": null,
      "outputs": []
    },
    {
      "cell_type": "code",
      "source": [
        "#test the simple RNN model on a new data\n",
        "model.predict(X_test)"
      ],
      "metadata": {
        "id": "AXiR6sR4eQb3"
      },
      "execution_count": null,
      "outputs": []
    },
    {
      "cell_type": "markdown",
      "source": [
        "If we play wiht different hyperparamters it can be seen that a simpler RNN with fewer ruccurent units actually performs better. we can also try different activation fuctions. Linear is fine"
      ],
      "metadata": {
        "id": "7bdniyPDUm5K"
      }
    },
    {
      "cell_type": "code",
      "source": [
        "#get data and split it into train and test\n",
        "url = 'https://raw.githubusercontent.com/jbrownlee/Datasets/master/monthly-sunspots.csv'\n",
        "\n",
        "def get_train_test(url, test_size=0.2): \n",
        "  df = pd.read_csv(url, usecols=[1], engine='python')\n",
        "  data = df.values.astype('float32')\n",
        "  scaler = MinMaxScaler(feature_range=(0, 1))\n",
        "  data = scaler.fit_transform(data)\n",
        "  train, test = train_test_split(data, test_size=test_size, shuffle=False)\n",
        "  return train, test\n",
        "\n",
        "train, test = get_train_test(url)"
      ],
      "metadata": {
        "id": "_uwWjGIvU3Lq"
      },
      "execution_count": 10,
      "outputs": []
    },
    {
      "cell_type": "code",
      "source": [
        "#get X and y for train and test data\n",
        "def get_XY(data, timeStep):  \n",
        "  y_idx = np.arange(timeStep, data.shape[0], timeStep)\n",
        "  y = data[y_idx]\n",
        "  X = data[:timeStep*y.shape[0]]\n",
        "  X = X.reshape(-1, timeStep, 1)\n",
        "  return X, y\n",
        "\n",
        "X_train, y_train = get_XY(train, 12)\n",
        "X_test, y_test = get_XY(test, 12)\n",
        "print(f'X_train shape = {X_train.shape}; X_test shape = {X_test.shape}; y_train shape = {y_train.shape}; y_test shape = {y_test.shape}')"
      ],
      "metadata": {
        "id": "M-Vm2r0VIUqF",
        "outputId": "1b0310f6-8cd8-4083-9ea0-decacd2a8f70",
        "colab": {
          "base_uri": "https://localhost:8080/"
        }
      },
      "execution_count": 11,
      "outputs": [
        {
          "output_type": "stream",
          "name": "stdout",
          "text": [
            "X_train shape = (187, 12, 1); X_test shape = (46, 12, 1); y_train shape = (187, 1); y_test shape = (46, 1)\n"
          ]
        }
      ]
    },
    {
      "cell_type": "code",
      "source": [
        "#define a function to train, test and visulize the model to play with different parameters more easily\n",
        "def train_test_vis(rnn_units, X_train, y_train, X_test, y_test, rnn_activation='linear', dense_activation='linear', epochs=15, batch_size=1, verbose=0, RNN_type='simple'):\n",
        "  model = create_RNN(rnn_units, 1, (12, 1), [rnn_activation, dense_activation], RNN=RNN_type)\n",
        "  model.fit(X_train, y_train, epochs=epochs, batch_size=batch_size, verbose=verbose)\n",
        "  test_pred = model.predict(X_test)\n",
        "  MSE = mean_squared_error(y_test, test_pred)\n",
        "  print(f'test MSE = {MSE}')\n",
        "  plt.figure(figsize=(5, 3))\n",
        "  plt.plot(range(y_test.shape[0]), y_test, label='test data')\n",
        "  plt.plot(range(y_test.shape[0]), test_pred, label='predicted')\n",
        "  plt.legend()\n",
        "  plt.show()\n",
        "  return MSE, test_pred"
      ],
      "metadata": {
        "id": "sTTJ4l6_t5p-"
      },
      "execution_count": 27,
      "outputs": []
    },
    {
      "cell_type": "code",
      "source": [
        "MSE, prdictions = train_test_vis(1, X_train, y_train, X_test, y_test, rnn_activation='linear', dense_activation='linear')"
      ],
      "metadata": {
        "id": "0y-Cp7fevLBn",
        "outputId": "866ccc14-c767-4846-ed69-d36a84097157",
        "colab": {
          "base_uri": "https://localhost:8080/",
          "height": 326
        }
      },
      "execution_count": 31,
      "outputs": [
        {
          "output_type": "stream",
          "name": "stdout",
          "text": [
            "2/2 [==============================] - 0s 8ms/step\n",
            "test MSE = 0.007048419211059809\n"
          ]
        },
        {
          "output_type": "display_data",
          "data": {
            "text/plain": [
              "<Figure size 500x300 with 1 Axes>"
            ],
            "image/png": "[encoded data removed]"
          },
          "metadata": {}
        }
      ]
    },
    {
      "cell_type": "code",
      "source": [
        "MSE, prdictions = train_test_vis(4, X_train, y_train, X_test, y_test)"
      ],
      "metadata": {
        "id": "K6by4MuMvKcI"
      },
      "execution_count": null,
      "outputs": []
    },
    {
      "cell_type": "code",
      "source": [
        "MSE, prdictions = train_test_vis(32, X_train, y_train, X_test, y_test, epochs=100, rnn_activation='tanh', dense_activation='tanh')"
      ],
      "metadata": {
        "id": "HV2XcuHawBmQ"
      },
      "execution_count": null,
      "outputs": []
    },
    {
      "cell_type": "markdown",
      "source": [
        "After trying different parameters it does seem that tanh and linear activation function doesn't differ that much and more rnn units seem to deliver more consitent (and lower loss) results but the difference is negligible"
      ],
      "metadata": {
        "id": "P84wXRu4xmWz"
      }
    },
    {
      "cell_type": "code",
      "source": [
        "MSE, prediction = train_test_vis(32, X_train, y_train, X_test, y_test, RNN_type='LSTM', verbose=1, epochs=20)"
      ],
      "metadata": {
        "id": "zuTS5qZTyaHv",
        "outputId": "1076b0a2-c6c1-406d-e3f2-ca90928295c1",
        "colab": {
          "base_uri": "https://localhost:8080/",
          "height": 1000
        }
      },
      "execution_count": 29,
      "outputs": [
        {
          "output_type": "stream",
          "name": "stdout",
          "text": [
            "Epoch 1/20\n",
            "187/187 [==============================] - 3s 5ms/step - loss: 0.0089\n",
            "Epoch 2/20\n",
            "187/187 [==============================] - 1s 5ms/step - loss: 0.0054\n",
            "Epoch 3/20\n",
            "187/187 [==============================] - 1s 5ms/step - loss: 0.0051\n",
            "Epoch 4/20\n",
            "187/187 [==============================] - 1s 5ms/step - loss: 0.0055\n",
            "Epoch 5/20\n",
            "187/187 [==============================] - 1s 6ms/step - loss: 0.0046\n",
            "Epoch 6/20\n",
            "187/187 [==============================] - 1s 5ms/step - loss: 0.0045\n",
            "Epoch 7/20\n",
            "187/187 [==============================] - 1s 5ms/step - loss: 0.0046\n",
            "Epoch 8/20\n",
            "187/187 [==============================] - 1s 7ms/step - loss: 0.0039\n",
            "Epoch 9/20\n",
            "187/187 [==============================] - 1s 7ms/step - loss: 0.0039\n",
            "Epoch 10/20\n",
            "187/187 [==============================] - 1s 6ms/step - loss: 0.0038\n",
            "Epoch 11/20\n",
            "187/187 [==============================] - 1s 5ms/step - loss: 0.0040\n",
            "Epoch 12/20\n",
            "187/187 [==============================] - 1s 5ms/step - loss: 0.0037\n",
            "Epoch 13/20\n",
            "187/187 [==============================] - 1s 6ms/step - loss: 0.0038\n",
            "Epoch 14/20\n",
            "187/187 [==============================] - 1s 6ms/step - loss: 0.0036\n",
            "Epoch 15/20\n",
            "187/187 [==============================] - 2s 11ms/step - loss: 0.0037\n",
            "Epoch 16/20\n",
            "187/187 [==============================] - 1s 5ms/step - loss: 0.0036\n",
            "Epoch 17/20\n",
            "187/187 [==============================] - 1s 5ms/step - loss: 0.0037\n",
            "Epoch 18/20\n",
            "187/187 [==============================] - 1s 5ms/step - loss: 0.0036\n",
            "Epoch 19/20\n",
            "187/187 [==============================] - 1s 7ms/step - loss: 0.0034\n",
            "Epoch 20/20\n",
            "187/187 [==============================] - 1s 7ms/step - loss: 0.0033\n"
          ]
        },
        {
          "output_type": "stream",
          "name": "stderr",
          "text": [
            "WARNING:tensorflow:6 out of the last 11 calls to <function Model.make_predict_function.<locals>.predict_function at 0x7f2798b68820> triggered tf.function retracing. Tracing is expensive and the excessive number of tracings could be due to (1) creating @tf.function repeatedly in a loop, (2) passing tensors with different shapes, (3) passing Python objects instead of tensors. For (1), please define your @tf.function outside of the loop. For (2), @tf.function has reduce_retracing=True option that can avoid unnecessary retracing. For (3), please refer to https://www.tensorflow.org/guide/function#controlling_retracing and https://www.tensorflow.org/api_docs/python/tf/function for  more details.\n"
          ]
        },
        {
          "output_type": "stream",
          "name": "stdout",
          "text": [
            "2/2 [==============================] - 0s 9ms/step\n",
            "test MSE = 0.008030450902879238\n"
          ]
        },
        {
          "output_type": "display_data",
          "data": {
            "text/plain": [
              "<Figure size 500x300 with 1 Axes>"
            ],
            "image/png": "[encoded data removed]"
          },
          "metadata": {}
        }
      ]
    }
  ],
  "metadata": {
    "colab": {
      "provenance": [],
      "mount_file_id": "1NNPfAF6yLLiVtEil_bPc4lvRGi960ClM",
      "authorship_tag": "ABX9TyNgHwbMb0UfLQXqk46DHF/M",
      "include_colab_link": true
    },
    "gpuClass": "standard",
    "kernelspec": {
      "display_name": "Python 3",
      "name": "python3"
    },
    "language_info": {
      "name": "python"
    }
  },
  "nbformat": 4,
  "nbformat_minor": 0
}