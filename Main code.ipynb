{
  "cells": [
    {
      "cell_type": "markdown",
      "metadata": {
        "id": "view-in-github",
        "colab_type": "text"
      },
      "source": [
        "<a href=\"https://colab.research.google.com/github/Integrall11/RNN-pyhthon-implementation/blob/main/Main%20code.ipynb\" target=\"_parent\"><img src=\"https://colab.research.google.com/assets/colab-badge.svg\" alt=\"Open In Colab\"/></a>"
      ]
    },
    {
      "cell_type": "code",
      "source": [
        "#import libraries\n",
        "import numpy as np\n",
        "import pandas as pd\n",
        "import matplotlib.pyplot as plt\n",
        "from keras.layers import Dense, SimpleRNN, Dropout\n",
        "from keras.models import Sequential\n",
        "from sklearn.preprocessing import MinMaxScaler\n",
        "from sklearn.metrics import mean_squared_error\n",
        "from sklearn.model_selection import train_test_split\n",
        "import math"
      ],
      "metadata": {
        "id": "-DyhXMg9jenb"
      },
      "execution_count": 36,
      "outputs": []
    },
    {
      "cell_type": "markdown",
      "source": [
        "Check if a simple fully connected neural network can predict a sequence of orderd 5 numbers"
      ],
      "metadata": {
        "id": "13nNJE0cNk8x"
      }
    },
    {
      "cell_type": "code",
      "source": [
        "#create our dataset\n",
        "X = np.array(range(1, 2001)).reshape(400, 5, 1)\n",
        "y = np.array([5*x +1 for x in range(1, 401)]).reshape(400, 1)\n",
        "test = np.array(range(3000, 3100)).reshape(20, 5, 1)\n",
        "print('X =\\n', X[:5])\n",
        "print('y =\\n', y[:5])\n",
        "print('test =\\n', test[:5])"
      ],
      "metadata": {
        "id": "1gsijlbnReRL",
        "outputId": "01eff71e-ddbd-42c4-c7ab-8916d915e951",
        "colab": {
          "base_uri": "https://localhost:8080/"
        }
      },
      "execution_count": 37,
      "outputs": [
        {
          "output_type": "stream",
          "name": "stdout",
          "text": [
            "X =\n",
            " [[[ 1]\n",
            "  [ 2]\n",
            "  [ 3]\n",
            "  [ 4]\n",
            "  [ 5]]\n",
            "\n",
            " [[ 6]\n",
            "  [ 7]\n",
            "  [ 8]\n",
            "  [ 9]\n",
            "  [10]]\n",
            "\n",
            " [[11]\n",
            "  [12]\n",
            "  [13]\n",
            "  [14]\n",
            "  [15]]\n",
            "\n",
            " [[16]\n",
            "  [17]\n",
            "  [18]\n",
            "  [19]\n",
            "  [20]]\n",
            "\n",
            " [[21]\n",
            "  [22]\n",
            "  [23]\n",
            "  [24]\n",
            "  [25]]]\n",
            "y =\n",
            " [[ 6]\n",
            " [11]\n",
            " [16]\n",
            " [21]\n",
            " [26]]\n",
            "test =\n",
            " [[[3000]\n",
            "  [3001]\n",
            "  [3002]\n",
            "  [3003]\n",
            "  [3004]]\n",
            "\n",
            " [[3005]\n",
            "  [3006]\n",
            "  [3007]\n",
            "  [3008]\n",
            "  [3009]]\n",
            "\n",
            " [[3010]\n",
            "  [3011]\n",
            "  [3012]\n",
            "  [3013]\n",
            "  [3014]]\n",
            "\n",
            " [[3015]\n",
            "  [3016]\n",
            "  [3017]\n",
            "  [3018]\n",
            "  [3019]]\n",
            "\n",
            " [[3020]\n",
            "  [3021]\n",
            "  [3022]\n",
            "  [3023]\n",
            "  [3024]]]\n"
          ]
        }
      ]
    },
    {
      "cell_type": "code",
      "source": [
        "#define function to dreate a simple fully connected layer\n",
        "def creat_FC(hidden_layers, hidden_units=10, activation='linear'):\n",
        "  model = Sequential()\n",
        "  model.add(Dense(units=5, activation=activation))\n",
        "\n",
        "  for _ in range(hidden_layers):\n",
        "    model.add(Dense(units=hidden_units, activation=activation))\n",
        "  \n",
        "  model.add(Dense(units=3, activation=activation))\n",
        "  model.add(Dense(units=1, activation='softmax'))\n",
        "  model.compile(loss='mean_squared_error', optimizer='adam')\n",
        "\n",
        "  return model\n",
        "\n",
        "fc = creat_FC(5)\n",
        "fc.fit(X, y, epochs=40, batch_size=1)"
      ],
      "metadata": {
        "id": "KdFcWXuONv5Z",
        "outputId": "b2b392b1-7ea5-44bc-a50a-28c7b43974ab",
        "colab": {
          "base_uri": "https://localhost:8080/"
        }
      },
      "execution_count": 38,
      "outputs": [
        {
          "output_type": "stream",
          "name": "stdout",
          "text": [
            "Epoch 1/40\n",
            "400/400 [==============================] - 3s 1ms/step - loss: 1338337.5000\n",
            "Epoch 2/40\n",
            "400/400 [==============================] - 1s 1ms/step - loss: 1338337.5000\n",
            "Epoch 3/40\n",
            "400/400 [==============================] - 1s 2ms/step - loss: 1338337.5000\n",
            "Epoch 4/40\n",
            "400/400 [==============================] - 1s 1ms/step - loss: 1338337.3750\n",
            "Epoch 5/40\n",
            "400/400 [==============================] - 1s 2ms/step - loss: 1338337.2500\n",
            "Epoch 6/40\n",
            "400/400 [==============================] - 1s 2ms/step - loss: 1338337.6250\n",
            "Epoch 7/40\n",
            "400/400 [==============================] - 1s 1ms/step - loss: 1338337.6250\n",
            "Epoch 8/40\n",
            "400/400 [==============================] - 1s 1ms/step - loss: 1338337.6250\n",
            "Epoch 9/40\n",
            "400/400 [==============================] - 1s 1ms/step - loss: 1338337.6250\n",
            "Epoch 10/40\n",
            "400/400 [==============================] - 1s 2ms/step - loss: 1338337.6250\n",
            "Epoch 11/40\n",
            "400/400 [==============================] - 1s 2ms/step - loss: 1338337.5000\n",
            "Epoch 12/40\n",
            "400/400 [==============================] - 1s 2ms/step - loss: 1338337.8750\n",
            "Epoch 13/40\n",
            "400/400 [==============================] - 1s 2ms/step - loss: 1338338.1250\n",
            "Epoch 14/40\n",
            "400/400 [==============================] - 1s 1ms/step - loss: 1338337.8750\n",
            "Epoch 15/40\n",
            "400/400 [==============================] - 1s 1ms/step - loss: 1338337.6250\n",
            "Epoch 16/40\n",
            "400/400 [==============================] - 1s 1ms/step - loss: 1338337.2500\n",
            "Epoch 17/40\n",
            "400/400 [==============================] - 1s 1ms/step - loss: 1338337.6250\n",
            "Epoch 18/40\n",
            "400/400 [==============================] - 1s 2ms/step - loss: 1338337.2500\n",
            "Epoch 19/40\n",
            "400/400 [==============================] - 1s 1ms/step - loss: 1338337.7500\n",
            "Epoch 20/40\n",
            "400/400 [==============================] - 1s 1ms/step - loss: 1338337.6250\n",
            "Epoch 21/40\n",
            "400/400 [==============================] - 1s 1ms/step - loss: 1338338.0000\n",
            "Epoch 22/40\n",
            "400/400 [==============================] - 1s 1ms/step - loss: 1338337.5000\n",
            "Epoch 23/40\n",
            "400/400 [==============================] - 1s 1ms/step - loss: 1338337.8750\n",
            "Epoch 24/40\n",
            "400/400 [==============================] - 1s 2ms/step - loss: 1338337.5000\n",
            "Epoch 25/40\n",
            "400/400 [==============================] - 1s 1ms/step - loss: 1338337.6250\n",
            "Epoch 26/40\n",
            "400/400 [==============================] - 1s 2ms/step - loss: 1338337.7500\n",
            "Epoch 27/40\n",
            "400/400 [==============================] - 1s 1ms/step - loss: 1338338.2500\n",
            "Epoch 28/40\n",
            "400/400 [==============================] - 1s 1ms/step - loss: 1338337.3750\n",
            "Epoch 29/40\n",
            "400/400 [==============================] - 1s 2ms/step - loss: 1338337.5000\n",
            "Epoch 30/40\n",
            "400/400 [==============================] - 1s 2ms/step - loss: 1338337.8750\n",
            "Epoch 31/40\n",
            "400/400 [==============================] - 1s 2ms/step - loss: 1338337.5000\n",
            "Epoch 32/40\n",
            "400/400 [==============================] - 1s 2ms/step - loss: 1338337.5000\n",
            "Epoch 33/40\n",
            "400/400 [==============================] - 1s 2ms/step - loss: 1338337.5000\n",
            "Epoch 34/40\n",
            "400/400 [==============================] - 1s 3ms/step - loss: 1338337.8750\n",
            "Epoch 35/40\n",
            "400/400 [==============================] - 1s 3ms/step - loss: 1338338.1250\n",
            "Epoch 36/40\n",
            "400/400 [==============================] - 1s 2ms/step - loss: 1338337.5000\n",
            "Epoch 37/40\n",
            "400/400 [==============================] - 1s 1ms/step - loss: 1338337.8750\n",
            "Epoch 38/40\n",
            "400/400 [==============================] - 1s 2ms/step - loss: 1338338.0000\n",
            "Epoch 39/40\n",
            "400/400 [==============================] - 1s 1ms/step - loss: 1338337.7500\n",
            "Epoch 40/40\n",
            "400/400 [==============================] - 1s 2ms/step - loss: 1338337.8750\n"
          ]
        },
        {
          "output_type": "execute_result",
          "data": {
            "text/plain": [
              "<keras.callbacks.History at 0x7f388641de50>"
            ]
          },
          "metadata": {},
          "execution_count": 38
        }
      ]
    },
    {
      "cell_type": "code",
      "source": [
        "#check the model performance on the test data\n",
        "fc_predict = fc.predict(test)\n",
        "fc_predict"
      ],
      "metadata": {
        "id": "j6Cwc1jwSldW",
        "outputId": "6a25a95c-062b-407d-f29b-62cb526389c5",
        "colab": {
          "base_uri": "https://localhost:8080/"
        }
      },
      "execution_count": 39,
      "outputs": [
        {
          "output_type": "stream",
          "name": "stdout",
          "text": [
            "1/1 [==============================] - 0s 403ms/step\n"
          ]
        },
        {
          "output_type": "execute_result",
          "data": {
            "text/plain": [
              "array([[[0.99999994],\n",
              "        [0.99999994],\n",
              "        [0.99999994],\n",
              "        [0.99999994],\n",
              "        [0.99999994]],\n",
              "\n",
              "       [[0.99999994],\n",
              "        [0.99999994],\n",
              "        [0.99999994],\n",
              "        [0.99999994],\n",
              "        [0.99999994]],\n",
              "\n",
              "       [[0.99999994],\n",
              "        [0.99999994],\n",
              "        [0.99999994],\n",
              "        [0.99999994],\n",
              "        [0.99999994]],\n",
              "\n",
              "       [[0.99999994],\n",
              "        [0.99999994],\n",
              "        [0.99999994],\n",
              "        [0.99999994],\n",
              "        [0.99999994]],\n",
              "\n",
              "       [[0.99999994],\n",
              "        [0.99999994],\n",
              "        [0.99999994],\n",
              "        [0.99999994],\n",
              "        [0.99999994]],\n",
              "\n",
              "       [[0.99999994],\n",
              "        [0.99999994],\n",
              "        [0.99999994],\n",
              "        [0.99999994],\n",
              "        [0.99999994]],\n",
              "\n",
              "       [[0.99999994],\n",
              "        [0.99999994],\n",
              "        [0.99999994],\n",
              "        [0.99999994],\n",
              "        [0.99999994]],\n",
              "\n",
              "       [[0.99999994],\n",
              "        [0.99999994],\n",
              "        [0.99999994],\n",
              "        [0.99999994],\n",
              "        [0.99999994]],\n",
              "\n",
              "       [[0.99999994],\n",
              "        [0.99999994],\n",
              "        [0.99999994],\n",
              "        [0.99999994],\n",
              "        [0.99999994]],\n",
              "\n",
              "       [[0.99999994],\n",
              "        [0.99999994],\n",
              "        [0.99999994],\n",
              "        [0.99999994],\n",
              "        [0.99999994]],\n",
              "\n",
              "       [[0.99999994],\n",
              "        [0.99999994],\n",
              "        [0.99999994],\n",
              "        [0.99999994],\n",
              "        [0.99999994]],\n",
              "\n",
              "       [[0.99999994],\n",
              "        [0.99999994],\n",
              "        [0.99999994],\n",
              "        [0.99999994],\n",
              "        [0.99999994]],\n",
              "\n",
              "       [[0.99999994],\n",
              "        [0.99999994],\n",
              "        [0.99999994],\n",
              "        [0.99999994],\n",
              "        [0.99999994]],\n",
              "\n",
              "       [[0.99999994],\n",
              "        [0.99999994],\n",
              "        [0.99999994],\n",
              "        [0.99999994],\n",
              "        [0.99999994]],\n",
              "\n",
              "       [[0.99999994],\n",
              "        [0.99999994],\n",
              "        [0.99999994],\n",
              "        [0.99999994],\n",
              "        [0.99999994]],\n",
              "\n",
              "       [[0.99999994],\n",
              "        [0.99999994],\n",
              "        [0.99999994],\n",
              "        [0.99999994],\n",
              "        [0.99999994]],\n",
              "\n",
              "       [[0.99999994],\n",
              "        [0.99999994],\n",
              "        [0.99999994],\n",
              "        [0.99999994],\n",
              "        [0.99999994]],\n",
              "\n",
              "       [[0.99999994],\n",
              "        [0.99999994],\n",
              "        [0.99999994],\n",
              "        [0.99999994],\n",
              "        [0.99999994]],\n",
              "\n",
              "       [[0.99999994],\n",
              "        [0.99999994],\n",
              "        [0.99999994],\n",
              "        [0.99999994],\n",
              "        [0.99999994]],\n",
              "\n",
              "       [[0.99999994],\n",
              "        [1.        ],\n",
              "        [1.        ],\n",
              "        [1.        ],\n",
              "        [1.        ]]], dtype=float32)"
            ]
          },
          "metadata": {},
          "execution_count": 39
        }
      ]
    },
    {
      "cell_type": "markdown",
      "source": [
        "As it can be seen no matter how to tune the hyperparameters (batch_size, epochs, number of hidden layers or ativation function) a FC NN can not make predictions on a data with no higher representation or and linear relationship between each feature (first element of any 5 sequence are considered a features and the same for any seconde and third etc)\n",
        "NoW we use a simple recurrent network and instead of feeding this 5 sequence as 5 features we feed as a sequence of one feature (a concept that is not defined in the simple neural networks with no memory)"
      ],
      "metadata": {
        "id": "OtkKui5XTWr2"
      }
    },
    {
      "cell_type": "code",
      "source": [
        "#define a function to create RNN\n",
        "def create_RNN(hidden_units, dense_units, input_shape, activation):\n",
        "  model = Sequential()\n",
        "  model.add(SimpleRNN(units=hidden_units, activation=activation[0], input_shape=input_shape))\n",
        "  model.add(Dense(units=dense_units, activation=activation[1]))\n",
        "  model.compile(loss='mean_squared_error', optimizer='adam')\n",
        "  return model\n",
        "\n",
        "model = create_RNN(1, 1, (5, 1), ['linear', 'linear'])"
      ],
      "metadata": {
        "id": "lxaMruVNjfEV"
      },
      "execution_count": 5,
      "outputs": []
    },
    {
      "cell_type": "code",
      "source": [
        "#train the RNN model\n",
        "model.fit(X, y, epochs=50, batch_size=1)"
      ],
      "metadata": {
        "colab": {
          "base_uri": "https://localhost:8080/"
        },
        "id": "io7xtCGVO36m",
        "outputId": "0ea9fca4-3ad1-4434-8b1a-95839ae0ec7c"
      },
      "execution_count": 6,
      "outputs": [
        {
          "output_type": "stream",
          "name": "stdout",
          "text": [
            "Epoch 1/50\n",
            "400/400 [==============================] - 1s 1ms/step - loss: 1755557.5000\n",
            "Epoch 2/50\n",
            "400/400 [==============================] - 1s 1ms/step - loss: 52333.2695\n",
            "Epoch 3/50\n",
            "400/400 [==============================] - 1s 1ms/step - loss: 1.1640\n",
            "Epoch 4/50\n",
            "400/400 [==============================] - 1s 1ms/step - loss: 0.0391\n",
            "Epoch 5/50\n",
            "400/400 [==============================] - 1s 1ms/step - loss: 0.0391\n",
            "Epoch 6/50\n",
            "400/400 [==============================] - 1s 1ms/step - loss: 0.0388\n",
            "Epoch 7/50\n",
            "400/400 [==============================] - 1s 1ms/step - loss: 0.0389\n",
            "Epoch 8/50\n",
            "400/400 [==============================] - 1s 1ms/step - loss: 0.0388\n",
            "Epoch 9/50\n",
            "400/400 [==============================] - 1s 1ms/step - loss: 0.0383\n",
            "Epoch 10/50\n",
            "400/400 [==============================] - 1s 2ms/step - loss: 0.0379\n",
            "Epoch 11/50\n",
            "400/400 [==============================] - 1s 2ms/step - loss: 0.0371\n",
            "Epoch 12/50\n",
            "400/400 [==============================] - 1s 2ms/step - loss: 0.0369\n",
            "Epoch 13/50\n",
            "400/400 [==============================] - 1s 1ms/step - loss: 0.0358\n",
            "Epoch 14/50\n",
            "400/400 [==============================] - 1s 1ms/step - loss: 0.0356\n",
            "Epoch 15/50\n",
            "400/400 [==============================] - 1s 1ms/step - loss: 0.0349\n",
            "Epoch 16/50\n",
            "400/400 [==============================] - 1s 1ms/step - loss: 0.0328\n",
            "Epoch 17/50\n",
            "400/400 [==============================] - 1s 1ms/step - loss: 0.0327\n",
            "Epoch 18/50\n",
            "400/400 [==============================] - 1s 1ms/step - loss: 0.0305\n",
            "Epoch 19/50\n",
            "400/400 [==============================] - 1s 1ms/step - loss: 0.0305\n",
            "Epoch 20/50\n",
            "400/400 [==============================] - 1s 1ms/step - loss: 0.0260\n",
            "Epoch 21/50\n",
            "400/400 [==============================] - 1s 1ms/step - loss: 0.0255\n",
            "Epoch 22/50\n",
            "400/400 [==============================] - 1s 1ms/step - loss: 0.0224\n",
            "Epoch 23/50\n",
            "400/400 [==============================] - 1s 1ms/step - loss: 0.0213\n",
            "Epoch 24/50\n",
            "400/400 [==============================] - 1s 2ms/step - loss: 0.0183\n",
            "Epoch 25/50\n",
            "400/400 [==============================] - 1s 1ms/step - loss: 0.0147\n",
            "Epoch 26/50\n",
            "400/400 [==============================] - 1s 1ms/step - loss: 0.0440\n",
            "Epoch 27/50\n",
            "400/400 [==============================] - 1s 1ms/step - loss: 0.0215\n",
            "Epoch 28/50\n",
            "400/400 [==============================] - 1s 1ms/step - loss: 0.1068\n",
            "Epoch 29/50\n",
            "400/400 [==============================] - 1s 1ms/step - loss: 0.3117\n",
            "Epoch 30/50\n",
            "400/400 [==============================] - 1s 2ms/step - loss: 31.4714\n",
            "Epoch 31/50\n",
            "400/400 [==============================] - 1s 2ms/step - loss: 1.1403\n",
            "Epoch 32/50\n",
            "400/400 [==============================] - 1s 2ms/step - loss: 4.5258e-04\n",
            "Epoch 33/50\n",
            "400/400 [==============================] - 1s 1ms/step - loss: 0.0011\n",
            "Epoch 34/50\n",
            "400/400 [==============================] - 1s 1ms/step - loss: 14.0193\n",
            "Epoch 35/50\n",
            "400/400 [==============================] - 1s 1ms/step - loss: 0.3855\n",
            "Epoch 36/50\n",
            "400/400 [==============================] - 1s 1ms/step - loss: 0.3547\n",
            "Epoch 37/50\n",
            "400/400 [==============================] - 1s 1ms/step - loss: 2.9430\n",
            "Epoch 38/50\n",
            "400/400 [==============================] - 1s 2ms/step - loss: 11.9570\n",
            "Epoch 39/50\n",
            "400/400 [==============================] - 1s 1ms/step - loss: 1.1437\n",
            "Epoch 40/50\n",
            "400/400 [==============================] - 1s 1ms/step - loss: 10.9354\n",
            "Epoch 41/50\n",
            "400/400 [==============================] - 1s 1ms/step - loss: 0.0188\n",
            "Epoch 42/50\n",
            "400/400 [==============================] - 1s 1ms/step - loss: 32.9312\n",
            "Epoch 43/50\n",
            "400/400 [==============================] - 1s 1ms/step - loss: 0.0365\n",
            "Epoch 44/50\n",
            "400/400 [==============================] - 1s 1ms/step - loss: 0.1368\n",
            "Epoch 45/50\n",
            "400/400 [==============================] - 1s 1ms/step - loss: 0.0132\n",
            "Epoch 46/50\n",
            "400/400 [==============================] - 1s 1ms/step - loss: 0.0179\n",
            "Epoch 47/50\n",
            "400/400 [==============================] - 1s 1ms/step - loss: 61.3168\n",
            "Epoch 48/50\n",
            "400/400 [==============================] - 1s 1ms/step - loss: 13.7631\n",
            "Epoch 49/50\n",
            "400/400 [==============================] - 1s 1ms/step - loss: 0.0146\n",
            "Epoch 50/50\n",
            "400/400 [==============================] - 1s 3ms/step - loss: 0.0638\n"
          ]
        },
        {
          "output_type": "execute_result",
          "data": {
            "text/plain": [
              "<keras.callbacks.History at 0x7f38993a63a0>"
            ]
          },
          "metadata": {},
          "execution_count": 6
        }
      ]
    },
    {
      "cell_type": "code",
      "source": [
        "#print trained weight\n",
        "weights = model.get_weights()\n",
        "print('wx =\\n', weights[0])\n",
        "print('wh = \\n', weights[1])\n",
        "print('bh =\\n', weights[2])\n",
        "print('wy = \\n', weights[3])\n",
        "print('by = \\n', weights[4])"
      ],
      "metadata": {
        "colab": {
          "base_uri": "https://localhost:8080/"
        },
        "id": "RESECGMLEaBh",
        "outputId": "3692f806-c168-412f-e9f3-353c72d15e45"
      },
      "execution_count": 7,
      "outputs": [
        {
          "output_type": "stream",
          "name": "stdout",
          "text": [
            "wx =\n",
            " [[-0.13516094]]\n",
            "wh = \n",
            " [[1.0098999]]\n",
            "bh =\n",
            " [-0.3474022]\n",
            "wy = \n",
            " [[-1.4506035]]\n",
            "by = \n",
            " [0.3554195]\n"
          ]
        }
      ]
    },
    {
      "cell_type": "code",
      "source": [
        "#test the model on a new data\n",
        "model.predict(test)"
      ],
      "metadata": {
        "colab": {
          "base_uri": "https://localhost:8080/"
        },
        "id": "AXiR6sR4eQb3",
        "outputId": "fde67207-cea1-4a09-f851-0ad0b52f1f0e"
      },
      "execution_count": 8,
      "outputs": [
        {
          "output_type": "stream",
          "name": "stdout",
          "text": [
            "1/1 [==============================] - 0s 144ms/step\n"
          ]
        },
        {
          "output_type": "execute_result",
          "data": {
            "text/plain": [
              "array([[3004.6895],\n",
              "       [3009.689 ],\n",
              "       [3014.6887],\n",
              "       [3019.6882],\n",
              "       [3024.688 ],\n",
              "       [3029.6877],\n",
              "       [3034.6873],\n",
              "       [3039.6868],\n",
              "       [3044.6865],\n",
              "       [3049.6863],\n",
              "       [3054.6858],\n",
              "       [3059.6853],\n",
              "       [3064.6848],\n",
              "       [3069.6848],\n",
              "       [3074.6843],\n",
              "       [3079.6843],\n",
              "       [3084.6838],\n",
              "       [3089.6833],\n",
              "       [3094.6833],\n",
              "       [3099.6824]], dtype=float32)"
            ]
          },
          "metadata": {},
          "execution_count": 8
        }
      ]
    },
    {
      "cell_type": "markdown",
      "source": [
        "If we play wiht different hyperparamters it can be seen that a simpler RNN with fewer ruccurent units actually performs better. we can also try different activation fuctions. Linear is fine"
      ],
      "metadata": {
        "id": "7bdniyPDUm5K"
      }
    },
    {
      "cell_type": "code",
      "source": [
        "#get data and split it into train and test\n",
        "url = 'https://raw.githubusercontent.com/jbrownlee/Datasets/master/monthly-sunspots.csv'\n",
        "\n",
        "def get_train_test(url, test_size=0.2): \n",
        "  df = pd.read_csv(url, usecols=[1], engine='python')\n",
        "  data = df.values.astype('float32')\n",
        "  scaler = MinMaxScaler(feature_range=(0, 1))\n",
        "  data = scaler.fit_transform(data)\n",
        "  train, test = train_test_split(data, test_size=test_size, shuffle=False)\n",
        "  return train, test\n",
        "\n",
        "train, test = get_train_test(url)"
      ],
      "metadata": {
        "id": "_uwWjGIvU3Lq"
      },
      "execution_count": 69,
      "outputs": []
    },
    {
      "cell_type": "code",
      "source": [
        "#get X and y for train and test data\n",
        "def get_XY(data, timeStep):  \n",
        "  y_idx = np.arange(timeStep, data.shape[0], timeStep)\n",
        "  y = data[y_idx]\n",
        "  X = data[:timeStep*y.shape[0]]\n",
        "  X = X.reshape(-1, timeStep, 1)\n",
        "  return X, y\n",
        "\n",
        "X_train, y_train = get_XY(train, 12)\n",
        "X_test, y_test = get_XY(test, 12)\n",
        "print(f'X_train shape = {X_train.shape}; X_test shape = {X_test.shape}; y_train shape = {y_train.shape}; y_test shape = {y_test.shape}')"
      ],
      "metadata": {
        "id": "M-Vm2r0VIUqF",
        "outputId": "1429b0ab-30cf-4da0-f0b9-559a7e1a806b",
        "colab": {
          "base_uri": "https://localhost:8080/"
        }
      },
      "execution_count": 83,
      "outputs": [
        {
          "output_type": "stream",
          "name": "stdout",
          "text": [
            "X_train shape = (187, 12, 1); X_test shape = (46, 12, 1); y_train shape = (187, 1); y_test shape = (46, 1)\n"
          ]
        }
      ]
    },
    {
      "cell_type": "code",
      "source": [
        "#define a function to train, test and visulize the model to play with different parameters more easily\n",
        "def train_test_vis(rnn_units, X_train, y_train, X_test, y_test, rnn_activation='linear', dense_activation='linear', epochs=40, batch_size=1, verbose=0):\n",
        "  model = create_RNN(rnn_units, 1, (12, 1), [rnn_activation, dense_activation])\n",
        "  model.fit(X_train, y_train, epochs=epochs, batch_size=batch_size, verbose=verbose)\n",
        "  test_pred = model.predict(X_test)\n",
        "  RMSE = np.sqrt(mean_squared_error(y_test, test_pred))\n",
        "  print(f'test RMSE = {RMSE}')\n",
        "  plt.figure(figsize=(5, 3))\n",
        "  plt.plot(range(y_test.shape[0]), y_test, label='test data')\n",
        "  plt.plot(range(y_test.shape[0]), test_pred, label='predicted')\n",
        "  plt.legend()\n",
        "  plt.show()\n",
        "  return RMSE, test_pred"
      ],
      "metadata": {
        "id": "sTTJ4l6_t5p-"
      },
      "execution_count": 108,
      "outputs": []
    },
    {
      "cell_type": "code",
      "source": [
        "RMSE, prdictions = train_test_vis(1, X_train, y_train, X_test, y_test, rnn_activation='linear', dense_activation='linear')\n",
        "print(f'RMSE = {RMSE}')"
      ],
      "metadata": {
        "id": "0y-Cp7fevLBn",
        "outputId": "70a810e0-0a5b-4c2b-96c0-cff5c92642a9",
        "colab": {
          "base_uri": "https://localhost:8080/",
          "height": 343
        }
      },
      "execution_count": 109,
      "outputs": [
        {
          "output_type": "stream",
          "name": "stdout",
          "text": [
            "2/2 [==============================] - 0s 7ms/step\n",
            "test RMSE = 0.07564448565244675\n"
          ]
        },
        {
          "output_type": "display_data",
          "data": {
            "text/plain": [
              "<Figure size 500x300 with 1 Axes>"
            ],
            "image/png": "[encoded data removed]"
          },
          "metadata": {}
        },
        {
          "output_type": "stream",
          "name": "stdout",
          "text": [
            "RMSE = 0.07564448565244675\n"
          ]
        }
      ]
    },
    {
      "cell_type": "code",
      "source": [
        "RMSE, prdictions = train_test_vis(4, X_train, y_train, X_test, y_test)\n",
        "print(f'RMSE = {RMSE}')"
      ],
      "metadata": {
        "id": "K6by4MuMvKcI",
        "outputId": "003dec57-c671-4257-f724-6b211853ca64",
        "colab": {
          "base_uri": "https://localhost:8080/",
          "height": 343
        }
      },
      "execution_count": 110,
      "outputs": [
        {
          "output_type": "stream",
          "name": "stdout",
          "text": [
            "2/2 [==============================] - 0s 16ms/step\n",
            "test RMSE = 0.07467079162597656\n"
          ]
        },
        {
          "output_type": "display_data",
          "data": {
            "text/plain": [
              "<Figure size 500x300 with 1 Axes>"
            ],
            "image/png": "[encoded data removed]"
          },
          "metadata": {}
        },
        {
          "output_type": "stream",
          "name": "stdout",
          "text": [
            "RMSE = 0.07467079162597656\n"
          ]
        }
      ]
    },
    {
      "cell_type": "code",
      "source": [
        "RMSE, prdictions = train_test_vis(32, X_train, y_train, X_test, y_test, epochs=100, rnn_activation='tanh', dense_activation='tanh')\n",
        "print(f'RMSE = {RMSE}')"
      ],
      "metadata": {
        "id": "HV2XcuHawBmQ",
        "outputId": "512e4c38-14f5-4cc1-82a4-8b3afebad6d1",
        "colab": {
          "base_uri": "https://localhost:8080/",
          "height": 343
        }
      },
      "execution_count": 111,
      "outputs": [
        {
          "output_type": "stream",
          "name": "stdout",
          "text": [
            "2/2 [==============================] - 0s 4ms/step\n",
            "test RMSE = 0.07737685739994049\n"
          ]
        },
        {
          "output_type": "display_data",
          "data": {
            "text/plain": [
              "<Figure size 500x300 with 1 Axes>"
            ],
            "image/png": "[encoded data removed]"
          },
          "metadata": {}
        },
        {
          "output_type": "stream",
          "name": "stdout",
          "text": [
            "RMSE = 0.07737685739994049\n"
          ]
        }
      ]
    },
    {
      "cell_type": "markdown",
      "source": [
        "After trying different parameters it does seem that tanh and linear activation function doesn't differ that much and more rnn units seem to deliver more consitent (and lower loss) results but the difference is negligible"
      ],
      "metadata": {
        "id": "P84wXRu4xmWz"
      }
    },
    {
      "cell_type": "code",
      "source": [],
      "metadata": {
        "id": "zuTS5qZTyaHv"
      },
      "execution_count": null,
      "outputs": []
    }
  ],
  "metadata": {
    "colab": {
      "provenance": [],
      "mount_file_id": "1NNPfAF6yLLiVtEil_bPc4lvRGi960ClM",
      "authorship_tag": "ABX9TyN/aWsYqGxb+Cf3jTZPnS1t",
      "include_colab_link": true
    },
    "gpuClass": "standard",
    "kernelspec": {
      "display_name": "Python 3",
      "name": "python3"
    },
    "language_info": {
      "name": "python"
    }
  },
  "nbformat": 4,
  "nbformat_minor": 0
}