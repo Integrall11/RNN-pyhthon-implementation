{
  "cells": [
    {
      "cell_type": "markdown",
      "metadata": {
        "id": "view-in-github",
        "colab_type": "text"
      },
      "source": [
        "<a href=\"https://colab.research.google.com/github/Integrall11/RNN-pyhthon-implementation/blob/main/Main%20code.ipynb\" target=\"_parent\"><img src=\"https://colab.research.google.com/assets/colab-badge.svg\" alt=\"Open In Colab\"/></a>"
      ]
    },
    {
      "cell_type": "code",
      "source": [
        "#import libraries\n",
        "import numpy as np\n",
        "import pandas as pd\n",
        "import matplotlib.pyplot as plt\n",
        "from keras.layers import Dense, SimpleRNN, Dropout\n",
        "from keras.models import Sequential\n",
        "from sklearn.preprocessing import MinMaxScaler\n",
        "from sklearn.metrics import mean_squared_error\n",
        "import math"
      ],
      "metadata": {
        "id": "-DyhXMg9jenb"
      },
      "execution_count": 103,
      "outputs": []
    },
    {
      "cell_type": "markdown",
      "source": [
        "Check if a simple fully connected neural network can predict a sequence of orderd 5 numbers"
      ],
      "metadata": {
        "id": "13nNJE0cNk8x"
      }
    },
    {
      "cell_type": "code",
      "source": [
        "#create our dataset\n",
        "X = np.array(range(1, 2001)).reshape(400, 5, 1)\n",
        "y = np.array([5*x +1 for x in range(1, 401)]).reshape(400, 1)\n",
        "test = np.array(range(3000, 3100)).reshape(20, 5, 1)\n",
        "print('X =\\n', X[:5])\n",
        "print('y =\\n', y[:5])\n",
        "print('test =\\n', test[:5])"
      ],
      "metadata": {
        "id": "1gsijlbnReRL"
      },
      "execution_count": null,
      "outputs": []
    },
    {
      "cell_type": "code",
      "source": [
        "#define function to dreate a simple fully connected layer\n",
        "def creat_FC(hidden_layers, hidden_units=10, activation='relu'):\n",
        "  model = Sequential()\n",
        "  model.add(Dense(units=5, activation=activation))\n",
        "\n",
        "  for _ in range(hidden_layers):\n",
        "    model.add(Dense(units=hidden_units, activation=activation))\n",
        "  \n",
        "  model.add(Dense(units=3, activation=activation))\n",
        "  model.add(Dense(units=1, activation='softmax'))\n",
        "  model.compile(loss='mean_squared_error', optimizer='adam')\n",
        "\n",
        "  return model\n",
        "\n",
        "fc = creat_FC(5)\n",
        "fc.fit(X, y, epochs=40, batch_size=1)"
      ],
      "metadata": {
        "id": "KdFcWXuONv5Z"
      },
      "execution_count": null,
      "outputs": []
    },
    {
      "cell_type": "code",
      "source": [
        "#check the model performance on the test data\n",
        "fc_predict = fc.predict(test)\n",
        "fc_predict"
      ],
      "metadata": {
        "id": "j6Cwc1jwSldW"
      },
      "execution_count": null,
      "outputs": []
    },
    {
      "cell_type": "markdown",
      "source": [
        "As it can be seen no matter how to tune the hyperparameters (batch_size, epochs, number of hidden layers or ativation function) a FC NN can not make predictions on a data with no higher representation or and linear relationship between each feature (first element of any 5 sequence are considered a features and the same for any seconde and third etc)\n",
        "NoW we use a simple recurrent network and instead of feeding this 5 sequence as 5 features we feed as a sequence of one feature (a concept that is not defined in the simple neural networks with no memory)"
      ],
      "metadata": {
        "id": "OtkKui5XTWr2"
      }
    },
    {
      "cell_type": "code",
      "source": [
        "#define a function to create RNN\n",
        "def create_RNN(hidden_units, dense_units, input_shape, activation):\n",
        "  model = Sequential()\n",
        "  model.add(SimpleRNN(units=hidden_units, activation=activation[0], input_shape=input_shape))\n",
        "  model.add(Dense(units=dense_units, activation=activation[1]))\n",
        "  model.compile(loss='mean_squared_error', optimizer='adam')\n",
        "  return model\n",
        "\n",
        "model = create_RNN(1, 1, (5, 1), ['linear', 'linear'])"
      ],
      "metadata": {
        "id": "lxaMruVNjfEV"
      },
      "execution_count": 126,
      "outputs": []
    },
    {
      "cell_type": "code",
      "source": [
        "#train the model\n",
        "\n",
        "model.fit(X, y, epochs=50, batch_size=1)"
      ],
      "metadata": {
        "colab": {
          "base_uri": "https://localhost:8080/"
        },
        "id": "io7xtCGVO36m",
        "outputId": "7cbaec05-e234-4215-974e-e0875edae153"
      },
      "execution_count": 127,
      "outputs": [
        {
          "output_type": "stream",
          "name": "stdout",
          "text": [
            "Epoch 1/50\n",
            "400/400 [==============================] - 3s 3ms/step - loss: 24737.5156\n",
            "Epoch 2/50\n",
            "400/400 [==============================] - 1s 3ms/step - loss: 2.0787\n",
            "Epoch 3/50\n",
            "400/400 [==============================] - 1s 2ms/step - loss: 1.8418\n",
            "Epoch 4/50\n",
            "400/400 [==============================] - 1s 2ms/step - loss: 1.8313\n",
            "Epoch 5/50\n",
            "400/400 [==============================] - 1s 2ms/step - loss: 1.8139\n",
            "Epoch 6/50\n",
            "400/400 [==============================] - 1s 2ms/step - loss: 1.8110\n",
            "Epoch 7/50\n",
            "400/400 [==============================] - 1s 2ms/step - loss: 1.7926\n",
            "Epoch 8/50\n",
            "400/400 [==============================] - 1s 2ms/step - loss: 1.7651\n",
            "Epoch 9/50\n",
            "400/400 [==============================] - 1s 3ms/step - loss: 1.7460\n",
            "Epoch 10/50\n",
            "400/400 [==============================] - 1s 3ms/step - loss: 1.6933\n",
            "Epoch 11/50\n",
            "400/400 [==============================] - 1s 3ms/step - loss: 1.6654\n",
            "Epoch 12/50\n",
            "400/400 [==============================] - 3s 7ms/step - loss: 1.6259\n",
            "Epoch 13/50\n",
            "400/400 [==============================] - 1s 4ms/step - loss: 1.5956\n",
            "Epoch 14/50\n",
            "400/400 [==============================] - 2s 4ms/step - loss: 1.5112\n",
            "Epoch 15/50\n",
            "400/400 [==============================] - 1s 3ms/step - loss: 1.3854\n",
            "Epoch 16/50\n",
            "400/400 [==============================] - 1s 3ms/step - loss: 1.3639\n",
            "Epoch 17/50\n",
            "400/400 [==============================] - 1s 3ms/step - loss: 1.2399\n",
            "Epoch 18/50\n",
            "400/400 [==============================] - 1s 2ms/step - loss: 1.1912\n",
            "Epoch 19/50\n",
            "400/400 [==============================] - 1s 2ms/step - loss: 1.2107\n",
            "Epoch 20/50\n",
            "400/400 [==============================] - 1s 2ms/step - loss: 1.1045\n",
            "Epoch 21/50\n",
            "400/400 [==============================] - 1s 2ms/step - loss: 0.9095\n",
            "Epoch 22/50\n",
            "400/400 [==============================] - 1s 2ms/step - loss: 0.9551\n",
            "Epoch 23/50\n",
            "400/400 [==============================] - 1s 2ms/step - loss: 2.4852\n",
            "Epoch 24/50\n",
            "400/400 [==============================] - 1s 2ms/step - loss: 3.6035\n",
            "Epoch 25/50\n",
            "400/400 [==============================] - 1s 3ms/step - loss: 0.3223\n",
            "Epoch 26/50\n",
            "400/400 [==============================] - 1s 4ms/step - loss: 0.3583\n",
            "Epoch 27/50\n",
            "400/400 [==============================] - 1s 3ms/step - loss: 0.3927\n",
            "Epoch 28/50\n",
            "400/400 [==============================] - 1s 2ms/step - loss: 0.1739\n",
            "Epoch 29/50\n",
            "400/400 [==============================] - 1s 2ms/step - loss: 0.6813\n",
            "Epoch 30/50\n",
            "400/400 [==============================] - 1s 2ms/step - loss: 1.4458\n",
            "Epoch 31/50\n",
            "400/400 [==============================] - 1s 2ms/step - loss: 0.5161\n",
            "Epoch 32/50\n",
            "400/400 [==============================] - 1s 2ms/step - loss: 2.7118\n",
            "Epoch 33/50\n",
            "400/400 [==============================] - 1s 2ms/step - loss: 0.0703\n",
            "Epoch 34/50\n",
            "400/400 [==============================] - 1s 2ms/step - loss: 0.4841\n",
            "Epoch 35/50\n",
            "400/400 [==============================] - 1s 2ms/step - loss: 0.5174\n",
            "Epoch 36/50\n",
            "400/400 [==============================] - 1s 2ms/step - loss: 0.0263\n",
            "Epoch 37/50\n",
            "400/400 [==============================] - 1s 2ms/step - loss: 7.5838\n",
            "Epoch 38/50\n",
            "400/400 [==============================] - 1s 2ms/step - loss: 1.9070\n",
            "Epoch 39/50\n",
            "400/400 [==============================] - 1s 2ms/step - loss: 2.3781e-04\n",
            "Epoch 40/50\n",
            "400/400 [==============================] - 1s 3ms/step - loss: 0.0011\n",
            "Epoch 41/50\n",
            "400/400 [==============================] - 1s 3ms/step - loss: 0.0074\n",
            "Epoch 42/50\n",
            "400/400 [==============================] - 1s 3ms/step - loss: 2.0072\n",
            "Epoch 43/50\n",
            "400/400 [==============================] - 1s 3ms/step - loss: 0.0097\n",
            "Epoch 44/50\n",
            "400/400 [==============================] - 1s 2ms/step - loss: 0.0040\n",
            "Epoch 45/50\n",
            "400/400 [==============================] - 1s 2ms/step - loss: 1.5906\n",
            "Epoch 46/50\n",
            "400/400 [==============================] - 1s 2ms/step - loss: 0.0398\n",
            "Epoch 47/50\n",
            "400/400 [==============================] - 1s 2ms/step - loss: 1.2895\n",
            "Epoch 48/50\n",
            "400/400 [==============================] - 1s 2ms/step - loss: 0.5771\n",
            "Epoch 49/50\n",
            "400/400 [==============================] - 1s 2ms/step - loss: 15.7433\n",
            "Epoch 50/50\n",
            "400/400 [==============================] - 1s 2ms/step - loss: 4.8111e-05\n"
          ]
        },
        {
          "output_type": "execute_result",
          "data": {
            "text/plain": [
              "<keras.callbacks.History at 0x7f26a06439a0>"
            ]
          },
          "metadata": {},
          "execution_count": 127
        }
      ]
    },
    {
      "cell_type": "code",
      "source": [
        "#print trained weight\n",
        "weights = model.get_weights()\n",
        "print('wx =\\n', weights[0])\n",
        "print('wh = \\n', weights[1])\n",
        "print('bh =\\n', weights[2])\n",
        "print('wy = \\n', weights[3])\n",
        "print('by = \\n', weights[4])"
      ],
      "metadata": {
        "colab": {
          "base_uri": "https://localhost:8080/"
        },
        "id": "RESECGMLEaBh",
        "outputId": "e98d7ab3-3a72-42fa-c213-c51146429195"
      },
      "execution_count": 128,
      "outputs": [
        {
          "output_type": "stream",
          "name": "stdout",
          "text": [
            "wx =\n",
            " [[-0.8055629]]\n",
            "wh = \n",
            " [[-0.90517944]]\n",
            "bh =\n",
            " [-1.0266593]\n",
            "wy = \n",
            " [[-1.4710933]]\n",
            "by = \n",
            " [1.1301377]\n"
          ]
        }
      ]
    },
    {
      "cell_type": "code",
      "source": [
        "#test the model on a new data\n",
        "model.predict(test)"
      ],
      "metadata": {
        "colab": {
          "base_uri": "https://localhost:8080/"
        },
        "id": "AXiR6sR4eQb3",
        "outputId": "32045d54-5ea5-449e-c49f-ed8a5ae3fe47"
      },
      "execution_count": 129,
      "outputs": [
        {
          "output_type": "stream",
          "name": "stdout",
          "text": [
            "1/1 [==============================] - 0s 207ms/step\n"
          ]
        },
        {
          "output_type": "execute_result",
          "data": {
            "text/plain": [
              "array([[3005.009 ],\n",
              "       [3010.0088],\n",
              "       [3015.0088],\n",
              "       [3020.0093],\n",
              "       [3025.009 ],\n",
              "       [3030.0095],\n",
              "       [3035.01  ],\n",
              "       [3040.0098],\n",
              "       [3045.01  ],\n",
              "       [3050.0098],\n",
              "       [3055.0095],\n",
              "       [3060.0093],\n",
              "       [3065.0098],\n",
              "       [3070.0093],\n",
              "       [3075.009 ],\n",
              "       [3080.0093],\n",
              "       [3085.0093],\n",
              "       [3090.0098],\n",
              "       [3095.0095],\n",
              "       [3100.01  ]], dtype=float32)"
            ]
          },
          "metadata": {},
          "execution_count": 129
        }
      ]
    },
    {
      "cell_type": "markdown",
      "source": [
        "If we play wiht different hyperparamters it can be seen that a simpler RNN with fewer ruccurent units actually performs better. we can also try different activation fuctions. Linear is fine"
      ],
      "metadata": {
        "id": "7bdniyPDUm5K"
      }
    },
    {
      "cell_type": "code",
      "source": [],
      "metadata": {
        "id": "_uwWjGIvU3Lq"
      },
      "execution_count": null,
      "outputs": []
    }
  ],
  "metadata": {
    "colab": {
      "provenance": [],
      "mount_file_id": "1NNPfAF6yLLiVtEil_bPc4lvRGi960ClM",
      "authorship_tag": "ABX9TyPvzKsFhmb18boWNZVrjzZz",
      "include_colab_link": true
    },
    "gpuClass": "standard",
    "kernelspec": {
      "display_name": "Python 3",
      "name": "python3"
    },
    "language_info": {
      "name": "python"
    }
  },
  "nbformat": 4,
  "nbformat_minor": 0
}