{
  "cells": [
    {
      "cell_type": "markdown",
      "metadata": {
        "id": "view-in-github",
        "colab_type": "text"
      },
      "source": [
        "<a href=\"https://colab.research.google.com/github/Integrall11/RNN-pyhthon-implementation/blob/main/Main%20code.ipynb\" target=\"_parent\"><img src=\"https://colab.research.google.com/assets/colab-badge.svg\" alt=\"Open In Colab\"/></a>"
      ]
    },
    {
      "cell_type": "code",
      "source": [
        "import numpy as np\n",
        "import pandas as pd\n",
        "import matplotlib.pyplot as plt\n",
        "from keras.layers import Dense, SimpleRNN\n",
        "from keras.models import Sequential\n",
        "from sklearn.preprocessing import MinMaxScaler\n",
        "from sklearn.metrics import mean_squared_error\n",
        "import math"
      ],
      "metadata": {
        "id": "-DyhXMg9jenb"
      },
      "execution_count": 33,
      "outputs": []
    },
    {
      "cell_type": "code",
      "source": [
        "def create_RNN(hidden_units, dense_units, input_shape, activation):\n",
        "  model = Sequential()\n",
        "  model.add(SimpleRNN(units=2, activation=activation[0], input_shape=input_shape))\n",
        "  model.add(Dense(units=1, activation=activation[1]))\n",
        "  model.compile(loss='mean_squared_error', optimizer='adam')\n",
        "  return model\n",
        "\n",
        "model = create_RNN(2, 1, (3, 1), ['linear', 'linear'])"
      ],
      "metadata": {
        "id": "lxaMruVNjfEV"
      },
      "execution_count": 37,
      "outputs": []
    },
    {
      "cell_type": "code",
      "source": [
        "model.get_weights()"
      ],
      "metadata": {
        "id": "zFqGX842jfOv",
        "colab": {
          "base_uri": "https://localhost:8080/"
        },
        "outputId": "36062ac5-844b-4504-9653-33fea60530dd"
      },
      "execution_count": 38,
      "outputs": [
        {
          "output_type": "execute_result",
          "data": {
            "text/plain": [
              "[array([[-0.4600507,  0.8456594]], dtype=float32),\n",
              " array([[-0.9963666 , -0.08516783],\n",
              "        [ 0.08516783, -0.9963666 ]], dtype=float32),\n",
              " array([0., 0.], dtype=float32),\n",
              " array([[-0.4327554],\n",
              "        [-0.6919261]], dtype=float32),\n",
              " array([0.], dtype=float32)]"
            ]
          },
          "metadata": {},
          "execution_count": 38
        }
      ]
    },
    {
      "cell_type": "code",
      "source": [
        "X = np.array(range(1, 2001)).reshape(400, 5, 1)\n",
        "y = np.array([5*x +1 for x in range(1, 401)]).reshape(400, 1)\n",
        "model.fit(X, y, epochs=40, batch_size=1)"
      ],
      "metadata": {
        "colab": {
          "base_uri": "https://localhost:8080/"
        },
        "id": "io7xtCGVO36m",
        "outputId": "2fad36a1-b69e-4a74-a626-2f54b373a75c"
      },
      "execution_count": 71,
      "outputs": [
        {
          "output_type": "execute_result",
          "data": {
            "text/plain": [
              "<keras.callbacks.History at 0x7f26aac4d8b0>"
            ]
          },
          "metadata": {},
          "execution_count": 71
        }
      ]
    },
    {
      "cell_type": "code",
      "source": [
        "test = np.array(range(3000, 3100)).reshape(20, 5, 1)\n",
        "model.predict(test)"
      ],
      "metadata": {
        "colab": {
          "base_uri": "https://localhost:8080/"
        },
        "id": "AXiR6sR4eQb3",
        "outputId": "f1b3a5c3-40d7-4730-d0bf-33a1a17b7759"
      },
      "execution_count": 72,
      "outputs": [
        {
          "output_type": "stream",
          "name": "stdout",
          "text": [
            "1/1 [==============================] - 0s 30ms/step\n"
          ]
        },
        {
          "output_type": "execute_result",
          "data": {
            "text/plain": [
              "array([[3004.9783],\n",
              "       [3009.9785],\n",
              "       [3014.9788],\n",
              "       [3019.9788],\n",
              "       [3024.9773],\n",
              "       [3029.9775],\n",
              "       [3034.9778],\n",
              "       [3039.9778],\n",
              "       [3044.979 ],\n",
              "       [3049.9773],\n",
              "       [3054.978 ],\n",
              "       [3059.9775],\n",
              "       [3064.9775],\n",
              "       [3069.9785],\n",
              "       [3074.9783],\n",
              "       [3079.9775],\n",
              "       [3084.977 ],\n",
              "       [3089.9768],\n",
              "       [3094.9773],\n",
              "       [3099.9773]], dtype=float32)"
            ]
          },
          "metadata": {},
          "execution_count": 72
        }
      ]
    },
    {
      "cell_type": "code",
      "source": [
        "test"
      ],
      "metadata": {
        "id": "h3EKjn99qVat",
        "outputId": "5dfec253-8e18-4860-9111-6c9e55c4a21d",
        "colab": {
          "base_uri": "https://localhost:8080/"
        }
      },
      "execution_count": 70,
      "outputs": [
        {
          "output_type": "execute_result",
          "data": {
            "text/plain": [
              "array([[[3000],\n",
              "        [3001],\n",
              "        [3002],\n",
              "        [3003],\n",
              "        [3004]],\n",
              "\n",
              "       [[3005],\n",
              "        [3006],\n",
              "        [3007],\n",
              "        [3008],\n",
              "        [3009]],\n",
              "\n",
              "       [[3010],\n",
              "        [3011],\n",
              "        [3012],\n",
              "        [3013],\n",
              "        [3014]],\n",
              "\n",
              "       [[3015],\n",
              "        [3016],\n",
              "        [3017],\n",
              "        [3018],\n",
              "        [3019]],\n",
              "\n",
              "       [[3020],\n",
              "        [3021],\n",
              "        [3022],\n",
              "        [3023],\n",
              "        [3024]],\n",
              "\n",
              "       [[3025],\n",
              "        [3026],\n",
              "        [3027],\n",
              "        [3028],\n",
              "        [3029]],\n",
              "\n",
              "       [[3030],\n",
              "        [3031],\n",
              "        [3032],\n",
              "        [3033],\n",
              "        [3034]],\n",
              "\n",
              "       [[3035],\n",
              "        [3036],\n",
              "        [3037],\n",
              "        [3038],\n",
              "        [3039]],\n",
              "\n",
              "       [[3040],\n",
              "        [3041],\n",
              "        [3042],\n",
              "        [3043],\n",
              "        [3044]],\n",
              "\n",
              "       [[3045],\n",
              "        [3046],\n",
              "        [3047],\n",
              "        [3048],\n",
              "        [3049]],\n",
              "\n",
              "       [[3050],\n",
              "        [3051],\n",
              "        [3052],\n",
              "        [3053],\n",
              "        [3054]],\n",
              "\n",
              "       [[3055],\n",
              "        [3056],\n",
              "        [3057],\n",
              "        [3058],\n",
              "        [3059]],\n",
              "\n",
              "       [[3060],\n",
              "        [3061],\n",
              "        [3062],\n",
              "        [3063],\n",
              "        [3064]],\n",
              "\n",
              "       [[3065],\n",
              "        [3066],\n",
              "        [3067],\n",
              "        [3068],\n",
              "        [3069]],\n",
              "\n",
              "       [[3070],\n",
              "        [3071],\n",
              "        [3072],\n",
              "        [3073],\n",
              "        [3074]],\n",
              "\n",
              "       [[3075],\n",
              "        [3076],\n",
              "        [3077],\n",
              "        [3078],\n",
              "        [3079]],\n",
              "\n",
              "       [[3080],\n",
              "        [3081],\n",
              "        [3082],\n",
              "        [3083],\n",
              "        [3084]],\n",
              "\n",
              "       [[3085],\n",
              "        [3086],\n",
              "        [3087],\n",
              "        [3088],\n",
              "        [3089]],\n",
              "\n",
              "       [[3090],\n",
              "        [3091],\n",
              "        [3092],\n",
              "        [3093],\n",
              "        [3094]],\n",
              "\n",
              "       [[3095],\n",
              "        [3096],\n",
              "        [3097],\n",
              "        [3098],\n",
              "        [3099]]])"
            ]
          },
          "metadata": {},
          "execution_count": 70
        }
      ]
    }
  ],
  "metadata": {
    "colab": {
      "provenance": [],
      "mount_file_id": "1NNPfAF6yLLiVtEil_bPc4lvRGi960ClM",
      "authorship_tag": "ABX9TyM09lB2DhR8jILTsanp/Ntp",
      "include_colab_link": true
    },
    "gpuClass": "standard",
    "kernelspec": {
      "display_name": "Python 3",
      "name": "python3"
    },
    "language_info": {
      "name": "python"
    }
  },
  "nbformat": 4,
  "nbformat_minor": 0
}